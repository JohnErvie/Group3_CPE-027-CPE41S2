{
 "cells": [
  {
   "cell_type": "markdown",
   "source": [
    "## Storing the csv files into a list"
   ],
   "metadata": {}
  },
  {
   "cell_type": "code",
   "execution_count": 1,
   "source": [
    "import os\r\n",
    "import numpy as np\r\n",
    "import pandas as pd\r\n",
    "from matplotlib import pyplot as plt\r\n",
    "import seaborn as sns\r\n",
    "import glob\r\n",
    "\r\n",
    "# enter your path here\r\n",
    "pathToFolder = r\"D:\\Users\\Ervie John\\Documents\\4th year 1st sem\\Digital Signal Processing and Application\\Module 1\\CPE-027-CPE41S2_Lab1-Group3\"\r\n",
    "\r\n",
    "os.chdir(pathToFolder+\"\\dataset for kids\") # changing directory to this folder\r\n",
    "\r\n",
    "fileExtension = 'B1.csv'\r\n",
    "allCSVFiles = [i for i in glob.glob(f\"*{fileExtension}\")] # finding csv files with the B1.csv and then store it in a list\r\n",
    "sorted_allCSVFiles = sorted(allCSVFiles, key=len) # the list are not sorted properly, then I sorted it according to their length of character"
   ],
   "outputs": [],
   "metadata": {}
  },
  {
   "cell_type": "markdown",
   "source": [
    "## Creating a folder and csv file"
   ],
   "metadata": {}
  },
  {
   "cell_type": "code",
   "execution_count": 2,
   "source": [
    "from os import path # include this library for checking of file and folder if exist\r\n",
    "\r\n",
    "os.chdir(pathToFolder) # changing directory\r\n",
    "if (str(path.exists('Compiled_Csv_Files')) != \"True\"): # checking if Compiled_Csv_Files is exist \r\n",
    "    os.mkdir(\"Compiled_Csv_Files\") # if not create this folder named Compiled_Csv_Files"
   ],
   "outputs": [],
   "metadata": {}
  },
  {
   "cell_type": "markdown",
   "source": [
    "## Importing the mean, standard deviation, and standard error"
   ],
   "metadata": {}
  },
  {
   "cell_type": "code",
   "execution_count": 3,
   "source": [
    "import csv \r\n",
    "\r\n",
    "os.chdir(pathToFolder+\"\\Compiled_Csv_Files\") # Changing directory to Compiled_Csv_Files\r\n",
    "counter = 0\r\n",
    "\r\n",
    "if (str(path.exists('AllCsvFiles.csv')) != \"True\"): # checking if AllCsvFiles.csv is exist\r\n",
    "    header = ['Steps','Mean', 'Standard Deviation'] # if not create a csv file named AllCsvFiles.csv\r\n",
    "\r\n",
    "    with open('AllCsvFiles.csv', 'w', encoding='UTF8', newline='') as f:\r\n",
    "        writer = csv.writer(f)\r\n",
    "\r\n",
    "        # write the header\r\n",
    "        writer.writerow(header)\r\n",
    "\r\n",
    "    for CSVFiles in sorted_allCSVFiles: # storing the mean and standard devation per steps in AllCsvFiles.csv file\r\n",
    "        os.chdir(pathToFolder+\"\\dataset for kids\")\r\n",
    "        df = pd.read_csv(CSVFiles, skiprows=5) # Skip the first 5 row to begin at the row time series and AE [V]\r\n",
    "        data = [counter, (df.mean()['AE [V]']), (df.std()['AE [V]'])] # storing the mean and std value in a list\r\n",
    "\r\n",
    "        os.chdir(pathToFolder+\"\\Compiled_Csv_Files\")\r\n",
    "        with open('AllCsvFiles.csv', 'a', encoding='UTF8', newline='') as f: # I used newline='' to avoid extra space of row\r\n",
    "            writer = csv.writer(f)\r\n",
    "\r\n",
    "            # write the data\r\n",
    "            writer.writerow(data) # writing the data value to AllCsvFiles.csv file\r\n",
    "\r\n",
    "        counter+=1"
   ],
   "outputs": [],
   "metadata": {}
  },
  {
   "cell_type": "markdown",
   "source": [
    "## Saving the histogram and time series into PNG file"
   ],
   "metadata": {}
  },
  {
   "cell_type": "code",
   "execution_count": 4,
   "source": [
    "from os import path # include this library for checking of file and folder if exist\r\n",
    "\r\n",
    "os.chdir(pathToFolder+\"\\Compiled_Csv_Files\") # changing directory\r\n",
    "if (str(path.exists('Histogram')) != \"True\"): # checking if Histogram is exist \r\n",
    "    os.mkdir(\"Histogram\") # if not create this folder named Histogram\r\n",
    "\r\n",
    "for CSVFiles in sorted_allCSVFiles:\r\n",
    "    os.chdir(pathToFolder+\"\\dataset for kids\") # Changing directory to dataset for kids folder\r\n",
    "    df = pd.read_csv(CSVFiles, skiprows=5) # Skip the first 5 row to begin at the row time series and AE [V]\r\n",
    "    Hist_title = CSVFiles[:-4] + \"-Histogram\" # exclude the .csv extension\r\n",
    "    histPlot = df['AE [V]'].plot(kind='hist', title=Hist_title, bins = 250, xlabel='AE [V]', ylabel='Count')\r\n",
    "\r\n",
    "    os.chdir(pathToFolder+\"\\Compiled_Csv_Files\\Histogram\") # Changing directory to Compiled_Csv_Files folder\r\n",
    "    plt.savefig(Hist_title+'.png', facecolor='white', transparent=False) # saving the plot into png file\r\n",
    "    plt.clf() # to clear the current plot to make new"
   ],
   "outputs": [
    {
     "output_type": "display_data",
     "data": {
      "text/plain": [
       "<Figure size 432x288 with 0 Axes>"
      ]
     },
     "metadata": {}
    }
   ],
   "metadata": {}
  },
  {
   "cell_type": "code",
   "execution_count": 5,
   "source": [
    "from os import path # include this library for checking of file and folder if exist\r\n",
    "\r\n",
    "os.chdir(pathToFolder+\"\\Compiled_Csv_Files\") # changing directory\r\n",
    "if (str(path.exists('Time-Series Data')) != \"True\"): # checking if Time-Series Data is exist \r\n",
    "    os.mkdir(\"Time-Series Data\") # if not create this folder named Time-Series Data\r\n",
    "\r\n",
    "for CSVFiles in sorted_allCSVFiles:\r\n",
    "    os.chdir(pathToFolder+\"\\dataset for kids\")\r\n",
    "    df = pd.read_csv(CSVFiles, skiprows=5) # Skip the first 5 row to begin at the row time series and AE [V]\r\n",
    "    TS_title = CSVFiles[:-4] + \"-Time-Series\" # exclude the .csv extension\r\n",
    "    df['AE [V]'].plot(title=TS_title, xlabel='Steps', ylabel='Count')\r\n",
    "\r\n",
    "    os.chdir(pathToFolder+\"\\Compiled_Csv_Files\\Time-Series Data\") # Changing directory to Compiled_Csv_Files folder\r\n",
    "    plt.savefig(TS_title+'.png', facecolor='white', transparent=False) # saving the plot into png file\r\n",
    "    plt.clf() # to clear the current plot to make new"
   ],
   "outputs": [
    {
     "output_type": "display_data",
     "data": {
      "text/plain": [
       "<Figure size 432x288 with 0 Axes>"
      ]
     },
     "metadata": {}
    }
   ],
   "metadata": {}
  },
  {
   "cell_type": "markdown",
   "source": [
    "### Plot all the mean"
   ],
   "metadata": {}
  },
  {
   "cell_type": "code",
   "execution_count": 6,
   "source": [
    "os.chdir(pathToFolder+\"\\Compiled_Csv_Files\") # Changing directory to Compiled_Csv_Files folder\r\n",
    "df = pd.read_csv('AllCsvFiles.csv') # reading the AllCsvFiles.csv file\r\n",
    "\r\n",
    "meanTitle = \"Mean of all steps\" # title of plot\r\n",
    "\r\n",
    "df['Mean'].plot(title=meanTitle, xlabel='Steps', ylabel='Mean') # ploting the mean of all steps\r\n",
    "plt.savefig('AllCsvFiles-Mean'+'.png', facecolor='white', transparent=False) # saving the plot into png file\r\n",
    "plt.clf() # to clear the current plot to make new"
   ],
   "outputs": [
    {
     "output_type": "display_data",
     "data": {
      "text/plain": [
       "<Figure size 432x288 with 0 Axes>"
      ]
     },
     "metadata": {}
    }
   ],
   "metadata": {}
  }
 ],
 "metadata": {
  "orig_nbformat": 4,
  "language_info": {
   "name": "python",
   "version": "3.9.7",
   "mimetype": "text/x-python",
   "codemirror_mode": {
    "name": "ipython",
    "version": 3
   },
   "pygments_lexer": "ipython3",
   "nbconvert_exporter": "python",
   "file_extension": ".py"
  },
  "kernelspec": {
   "name": "python3",
   "display_name": "Python 3.9.7 64-bit"
  },
  "interpreter": {
   "hash": "f43cc2726e22cc2ad7664b75d73dbc7145118f0dcca3d6ffd6de03e4775c117a"
  }
 },
 "nbformat": 4,
 "nbformat_minor": 2
}